{
 "cells": [
  {
   "cell_type": "code",
   "execution_count": 54,
   "id": "130aded3-ad5e-4b96-b720-4a768e2c3d5f",
   "metadata": {},
   "outputs": [
    {
     "name": "stdin",
     "output_type": "stream",
     "text": [
      "Select the number you want of t-shirt:  5\n",
      "Select the number you want of mug:  5\n",
      "Select the number you want of hat:  5\n",
      "Select the number you want of book:  5\n",
      "Select the number you want of keychain:  5\n"
     ]
    },
    {
     "data": {
      "text/plain": [
       "{'t-shirt': '5', 'mug': '5', 'hat': '5', 'book': '5', 'keychain': '5'}"
      ]
     },
     "execution_count": 54,
     "metadata": {},
     "output_type": "execute_result"
    }
   ],
   "source": [
    "customer_orders = set()\n",
    "inventory = {}\n",
    "products = [\"t-shirt\", \"mug\", \"hat\", \"book\", \"keychain\"]\n",
    "def initialize_inventory(products):\n",
    "    for prod in products:\n",
    "        quantity = input(\"Select the number you want of \" + str(prod) + \": \")\n",
    "        inventory[prod] = quantity\n",
    "\n",
    "    return inventory\n",
    "\n",
    "initialize_inventory(products)"
   ]
  },
  {
   "cell_type": "code",
   "execution_count": 56,
   "id": "75df6611-7e6b-40c0-a857-f1738f31a78b",
   "metadata": {},
   "outputs": [
    {
     "name": "stdin",
     "output_type": "stream",
     "text": [
      "Enter the product you want to your order mug\n",
      "Would you like to add more products to you order (yes/no)? yes\n",
      "Enter the product you want to your order keychain\n",
      "Would you like to add more products to you order (yes/no)? yes\n",
      "Enter the product you want to your order mug\n",
      "Would you like to add more products to you order (yes/no)? no\n"
     ]
    },
    {
     "data": {
      "text/plain": [
       "{'book', 'keychain', 'mug'}"
      ]
     },
     "execution_count": 56,
     "metadata": {},
     "output_type": "execute_result"
    }
   ],
   "source": [
    "def get_customer_orders():\n",
    "    choise = input(\"Enter the product you want to your order\")\n",
    "    while choise not in products:\n",
    "        print(\"Sorry that products is not avaliable, try again\")\n",
    "        choise = input(\"Enter the product you want to your order\")\n",
    "    if choise in products:\n",
    "        customer_orders.add(choise)\n",
    "    again = input(\"Would you like to add more products to you order (yes/no)?\")\n",
    "    while again != \"no\" and again != \"yes\":\n",
    "        print(\"sorry could't understand\")\n",
    "        again = input(\"Would you like to add more products to you order (yes/no)?\")\n",
    "    while again == \"yes\":\n",
    "        choise = input(\"Enter the product you want to your order\")\n",
    "        while choise not in products:\n",
    "            print(\"Sorry that products is not avaliable, try with any in the list\")\n",
    "            choise = input(\"Enter the product you want to your order\")\n",
    "        if choise in products:\n",
    "            customer_orders.add(choise)\n",
    "        again = input(\"Would you like to add more products to you order (yes/no)?\")\n",
    "    return customer_orders\n",
    "\n",
    "get_customer_orders()"
   ]
  },
  {
   "cell_type": "code",
   "execution_count": 78,
   "id": "2c902734-57ae-48c0-b324-872ccecf515b",
   "metadata": {},
   "outputs": [
    {
     "data": {
      "text/plain": [
       "{'t-shirt': '5', 'mug': 3, 'hat': '5', 'book': 3, 'keychain': 3}"
      ]
     },
     "execution_count": 78,
     "metadata": {},
     "output_type": "execute_result"
    }
   ],
   "source": [
    "def update_inventory(customer_orders, inventory):\n",
    "    for key, value in inventory.items():\n",
    "        if key in customer_orders:\n",
    "            inventory[key] = int(value) - 1\n",
    "    return inventory\n",
    "\n",
    "update_inventory(customer_orders, inventory)"
   ]
  },
  {
   "cell_type": "code",
   "execution_count": 85,
   "id": "8fcd6df5-64c0-4b16-9ed9-69aa2350f6d9",
   "metadata": {},
   "outputs": [
    {
     "data": {
      "text/plain": [
       "(3, 60)"
      ]
     },
     "execution_count": 85,
     "metadata": {},
     "output_type": "execute_result"
    }
   ],
   "source": [
    "def calculate_order_statistics(customer_orders, products):\n",
    "    total_ordered = len(customer_orders)\n",
    "    perc_unique_prod = 0\n",
    "    for prod in products:\n",
    "        if prod in customer_orders:\n",
    "            perc_unique_prod += 20\n",
    "    order_statistics = (total_ordered, perc_unique_prod)\n",
    "    \n",
    "    return order_statistics\n",
    "\n",
    "calculate_order_statistics(customer_orders, products)"
   ]
  },
  {
   "cell_type": "code",
   "execution_count": 86,
   "id": "020e1da8-b439-49f7-a4cd-8d7dac4821d1",
   "metadata": {},
   "outputs": [
    {
     "name": "stdout",
     "output_type": "stream",
     "text": [
      "0\n"
     ]
    }
   ],
   "source": [
    "def print_order_statistics(order_statistics):\n",
    "    print(order_statistics)\n",
    "\n",
    "print_order_statistics(order_statistics)"
   ]
  },
  {
   "cell_type": "code",
   "execution_count": null,
   "id": "48022c8b-52b6-4d57-b6e5-beccb950daa2",
   "metadata": {},
   "outputs": [],
   "source": []
  }
 ],
 "metadata": {
  "kernelspec": {
   "display_name": "Python 3 (ipykernel)",
   "language": "python",
   "name": "python3"
  },
  "language_info": {
   "codemirror_mode": {
    "name": "ipython",
    "version": 3
   },
   "file_extension": ".py",
   "mimetype": "text/x-python",
   "name": "python",
   "nbconvert_exporter": "python",
   "pygments_lexer": "ipython3",
   "version": "3.11.7"
  }
 },
 "nbformat": 4,
 "nbformat_minor": 5
}

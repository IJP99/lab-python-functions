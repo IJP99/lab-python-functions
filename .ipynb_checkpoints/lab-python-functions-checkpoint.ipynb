{
 "cells": [
  {
   "cell_type": "markdown",
   "id": "25d7736c-ba17-4aff-b6bb-66eba20fbf4e",
   "metadata": {},
   "source": [
    "# Lab | Functions"
   ]
  },
  {
   "cell_type": "markdown",
   "id": "0c581062-8967-4d93-b06e-62833222f930",
   "metadata": {
    "tags": []
   },
   "source": [
    "## Exercise: Managing Customer Orders with Functions\n",
    "\n",
    "In the previous exercise, you improved the code for managing customer orders by using loops and flow control. Now, let's take it a step further and refactor the code by introducing functions.\n",
    "\n",
    "Follow the steps below to complete the exercise:\n",
    "\n",
    "1. Define a function named `initialize_inventory` that takes `products` as a parameter. Inside the function, implement the code for initializing the inventory dictionary using a loop and user input.\n",
    "\n",
    "2. Define a function named `get_customer_orders` that takes no parameters. Inside the function, implement the code for prompting the user to enter the product names using a loop. The function should return the `customer_orders` set.\n",
    "\n",
    "3. Define a function named `update_inventory` that takes `customer_orders` and `inventory` as parameters. Inside the function, implement the code for updating the inventory dictionary based on the customer orders.\n",
    "\n",
    "4. Define a function named `calculate_order_statistics` that takes `customer_orders` and `products` as parameters. Inside the function, implement the code for calculating the order statistics (total products ordered, and percentage of unique products ordered). The function should return these values.\n",
    "\n",
    "5. Define a function named `print_order_statistics` that takes `order_statistics` as a parameter. Inside the function, implement the code for printing the order statistics.\n",
    "\n",
    "6. Define a function named `print_updated_inventory` that takes `inventory` as a parameter. Inside the function, implement the code for printing the updated inventory.\n",
    "\n",
    "7. Call the functions in the appropriate sequence to execute the program and manage customer orders.\n",
    "\n",
    "Hints for functions:\n",
    "\n",
    "- Consider the input parameters required for each function and their return values.\n",
    "- Utilize function parameters and return values to transfer data between functions.\n",
    "- Test your functions individually to ensure they work correctly.\n",
    "\n",
    "\n"
   ]
  },
  {
   "cell_type": "code",
   "execution_count": 1,
   "id": "bc41dec1-8686-42c4-a447-77356a3256da",
   "metadata": {},
   "outputs": [
    {
     "name": "stdin",
     "output_type": "stream",
     "text": [
      "Select the number you want of t-shirt:  5\n",
      "Select the number you want of mug:  5\n",
      "Select the number you want of hat:  5\n",
      "Select the number you want of book:  5\n",
      "Select the number you want of keychain:  5\n"
     ]
    },
    {
     "data": {
      "text/plain": [
       "{'t-shirt': '5', 'mug': '5', 'hat': '5', 'book': '5', 'keychain': '5'}"
      ]
     },
     "execution_count": 1,
     "metadata": {},
     "output_type": "execute_result"
    }
   ],
   "source": [
    "#exercise 1\n",
    "\n",
    "customer_orders = list()\n",
    "inventory = {}\n",
    "products = [\"t-shirt\", \"mug\", \"hat\", \"book\", \"keychain\"]\n",
    "order_statistics = set()\n",
    "def initialize_inventory(products):\n",
    "    for prod in products:\n",
    "        quantity = input(\"Select the number you want of \" + str(prod) + \": \")\n",
    "        inventory[prod] = quantity\n",
    "\n",
    "    return inventory\n",
    "\n",
    "initialize_inventory(products)"
   ]
  },
  {
   "cell_type": "code",
   "execution_count": 2,
   "id": "44980dc2-8c58-4ab0-9166-6e8aaf7dc1d4",
   "metadata": {},
   "outputs": [
    {
     "name": "stdin",
     "output_type": "stream",
     "text": [
      "Enter the product you want to your order book\n",
      "Would you like to add more products to you order (yes/no)? yes\n",
      "Enter the product you want to your order book\n",
      "Would you like to add more products to you order (yes/no)? yes\n",
      "Enter the product you want to your order keychain\n",
      "Would you like to add more products to you order (yes/no)? no\n"
     ]
    },
    {
     "data": {
      "text/plain": [
       "['book', 'book', 'keychain']"
      ]
     },
     "execution_count": 2,
     "metadata": {},
     "output_type": "execute_result"
    }
   ],
   "source": [
    "#exercise 2\n",
    "\n",
    "def get_customer_orders():\n",
    "    choise = input(\"Enter the product you want to your order\")\n",
    "    while choise not in products:\n",
    "        print(\"Sorry that products is not avaliable, try again\")\n",
    "        choise = input(\"Enter the product you want to your order\")\n",
    "    if choise in products:\n",
    "        customer_orders.append(choise)\n",
    "    again = input(\"Would you like to add more products to you order (yes/no)?\")\n",
    "    while again != \"no\" and again != \"yes\":\n",
    "        print(\"sorry could't understand\")\n",
    "        again = input(\"Would you like to add more products to you order (yes/no)?\")\n",
    "    while again == \"yes\":\n",
    "        choise = input(\"Enter the product you want to your order\")\n",
    "        while choise not in products:\n",
    "            print(\"Sorry that products is not avaliable, try with any in the list\")\n",
    "            choise = input(\"Enter the product you want to your order\")\n",
    "        if choise in products:\n",
    "            customer_orders.append(choise)\n",
    "        again = input(\"Would you like to add more products to you order (yes/no)?\")\n",
    "    return customer_orders\n",
    "\n",
    "get_customer_orders()"
   ]
  },
  {
   "cell_type": "code",
   "execution_count": 3,
   "id": "46775796-7f06-4f01-9817-65235c0719b8",
   "metadata": {},
   "outputs": [
    {
     "data": {
      "text/plain": [
       "{'t-shirt': '5', 'mug': '5', 'hat': '5', 'book': 3, 'keychain': 4}"
      ]
     },
     "execution_count": 3,
     "metadata": {},
     "output_type": "execute_result"
    }
   ],
   "source": [
    "#exercise 3\n",
    "\n",
    "def update_inventory(customer_orders, inventory):\n",
    "    for key in customer_orders:\n",
    "        if key in inventory:\n",
    "            inventory[key] = int(inventory[key]) - 1\n",
    "    return inventory\n",
    "\n",
    "update_inventory(customer_orders, inventory)"
   ]
  },
  {
   "cell_type": "code",
   "execution_count": 4,
   "id": "65839cfe-2b27-43e1-b064-1f8c0da48358",
   "metadata": {},
   "outputs": [
    {
     "data": {
      "text/plain": [
       "{3, 40.0}"
      ]
     },
     "execution_count": 4,
     "metadata": {},
     "output_type": "execute_result"
    }
   ],
   "source": [
    "#exercise 4\n",
    "\n",
    "def calculate_order_statistics(customer_orders, products):\n",
    "    total_prod = len(customer_orders)\n",
    "    order_statistics.add(total_prod)\n",
    "    unique_prod = (len(set(customer_orders)) / len(products)*100)\n",
    "    order_statistics.add(unique_prod)\n",
    "    return order_statistics\n",
    "\n",
    "calculate_order_statistics(customer_orders, products)"
   ]
  },
  {
   "cell_type": "code",
   "execution_count": 5,
   "id": "c05fe5a3-0d51-4ca0-8f5d-f37364017d2d",
   "metadata": {},
   "outputs": [
    {
     "name": "stdout",
     "output_type": "stream",
     "text": [
      "{40.0, 3}\n"
     ]
    }
   ],
   "source": [
    "#exercise 5\n",
    "\n",
    "def print_order_statistics(order_statistics):\n",
    "    print(order_statistics)\n",
    "\n",
    "print_order_statistics(order_statistics)"
   ]
  },
  {
   "cell_type": "code",
   "execution_count": 6,
   "id": "d26ececa-9ee7-4381-a8a0-c402fad1dd53",
   "metadata": {},
   "outputs": [
    {
     "name": "stdout",
     "output_type": "stream",
     "text": [
      "{'t-shirt': '5', 'mug': '5', 'hat': '5', 'book': 3, 'keychain': 4}\n"
     ]
    }
   ],
   "source": [
    "#exercise 6 and 7\n",
    "\n",
    "def print_updated_inventory(inventory):\n",
    "    print(inventory)\n",
    "\n",
    "print_updated_inventory(inventory)"
   ]
  },
  {
   "cell_type": "code",
   "execution_count": null,
   "id": "0f8c7111-d21a-4525-85a8-acc3cb1d56ee",
   "metadata": {},
   "outputs": [],
   "source": []
  }
 ],
 "metadata": {
  "kernelspec": {
   "display_name": "Python 3 (ipykernel)",
   "language": "python",
   "name": "python3"
  },
  "language_info": {
   "codemirror_mode": {
    "name": "ipython",
    "version": 3
   },
   "file_extension": ".py",
   "mimetype": "text/x-python",
   "name": "python",
   "nbconvert_exporter": "python",
   "pygments_lexer": "ipython3",
   "version": "3.11.7"
  }
 },
 "nbformat": 4,
 "nbformat_minor": 5
}

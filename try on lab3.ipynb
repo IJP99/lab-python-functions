{
 "cells": [
  {
   "cell_type": "code",
   "execution_count": 47,
   "id": "130aded3-ad5e-4b96-b720-4a768e2c3d5f",
   "metadata": {},
   "outputs": [
    {
     "name": "stdin",
     "output_type": "stream",
     "text": [
      "Select the number you want of t-shirt:  5\n",
      "Select the number you want of mug:  5\n",
      "Select the number you want of hat:  5\n",
      "Select the number you want of book:  5\n",
      "Select the number you want of keychain:  5\n"
     ]
    },
    {
     "data": {
      "text/plain": [
       "{'t-shirt': '5', 'mug': '5', 'hat': '5', 'book': '5', 'keychain': '5'}"
      ]
     },
     "execution_count": 47,
     "metadata": {},
     "output_type": "execute_result"
    }
   ],
   "source": [
    "customer_orders = list()\n",
    "inventory = {}\n",
    "products = [\"t-shirt\", \"mug\", \"hat\", \"book\", \"keychain\"]\n",
    "order_statistics = set()\n",
    "def initialize_inventory(products):\n",
    "    for prod in products:\n",
    "        quantity = input(\"Select the number you want of \" + str(prod) + \": \")\n",
    "        inventory[prod] = quantity\n",
    "\n",
    "    return inventory\n",
    "\n",
    "initialize_inventory(products)"
   ]
  },
  {
   "cell_type": "code",
   "execution_count": 48,
   "id": "75df6611-7e6b-40c0-a857-f1738f31a78b",
   "metadata": {},
   "outputs": [
    {
     "name": "stdin",
     "output_type": "stream",
     "text": [
      "Enter the product you want to your order book\n",
      "Would you like to add more products to you order (yes/no)? yes\n",
      "Enter the product you want to your order book\n",
      "Would you like to add more products to you order (yes/no)? yes\n",
      "Enter the product you want to your order book\n",
      "Would you like to add more products to you order (yes/no)? no\n"
     ]
    },
    {
     "data": {
      "text/plain": [
       "['book', 'book', 'book']"
      ]
     },
     "execution_count": 48,
     "metadata": {},
     "output_type": "execute_result"
    }
   ],
   "source": [
    "def get_customer_orders():\n",
    "    choise = input(\"Enter the product you want to your order\")\n",
    "    while choise not in products:\n",
    "        print(\"Sorry that products is not avaliable, try again\")\n",
    "        choise = input(\"Enter the product you want to your order\")\n",
    "    if choise in products:\n",
    "        customer_orders.append(choise)\n",
    "    again = input(\"Would you like to add more products to you order (yes/no)?\")\n",
    "    while again != \"no\" and again != \"yes\":\n",
    "        print(\"sorry could't understand\")\n",
    "        again = input(\"Would you like to add more products to you order (yes/no)?\")\n",
    "    while again == \"yes\":\n",
    "        choise = input(\"Enter the product you want to your order\")\n",
    "        while choise not in products:\n",
    "            print(\"Sorry that products is not avaliable, try with any in the list\")\n",
    "            choise = input(\"Enter the product you want to your order\")\n",
    "        if choise in products:\n",
    "            customer_orders.append(choise)\n",
    "        again = input(\"Would you like to add more products to you order (yes/no)?\")\n",
    "    return customer_orders\n",
    "\n",
    "get_customer_orders()"
   ]
  },
  {
   "cell_type": "code",
   "execution_count": 49,
   "id": "2c902734-57ae-48c0-b324-872ccecf515b",
   "metadata": {},
   "outputs": [
    {
     "data": {
      "text/plain": [
       "{'t-shirt': '5', 'mug': '5', 'hat': '5', 'book': 2, 'keychain': '5'}"
      ]
     },
     "execution_count": 49,
     "metadata": {},
     "output_type": "execute_result"
    }
   ],
   "source": [
    "def update_inventory(customer_orders, inventory):\n",
    "    for key in customer_orders:\n",
    "        if key in inventory:\n",
    "            inventory[key] = int(inventory[key]) - 1\n",
    "    return inventory\n",
    "\n",
    "update_inventory(customer_orders, inventory)"
   ]
  },
  {
   "cell_type": "code",
   "execution_count": 51,
   "id": "8fcd6df5-64c0-4b16-9ed9-69aa2350f6d9",
   "metadata": {},
   "outputs": [
    {
     "data": {
      "text/plain": [
       "{3, 20.0}"
      ]
     },
     "execution_count": 51,
     "metadata": {},
     "output_type": "execute_result"
    }
   ],
   "source": [
    "def calculate_order_statistics(customer_orders, products):\n",
    "    total_prod = len(customer_orders)\n",
    "    order_statistics.add(total_prod)\n",
    "    unique_prod = (len(set(customer_orders)) / len(products)*100)\n",
    "    order_statistics.add(unique_prod)\n",
    "    return order_statistics\n",
    "\n",
    "calculate_order_statistics(customer_orders, products)"
   ]
  },
  {
   "cell_type": "code",
   "execution_count": 53,
   "id": "b2c002aa-4d8e-4be0-a265-64f6d796d824",
   "metadata": {},
   "outputs": [
    {
     "name": "stdout",
     "output_type": "stream",
     "text": [
      "{3, 20.0}\n"
     ]
    }
   ],
   "source": [
    "def print_order_statistics(order_statistics):\n",
    "    print(order_statistics)\n",
    "\n",
    "print_order_statistics(order_statistics)"
   ]
  },
  {
   "cell_type": "code",
   "execution_count": 54,
   "id": "e674ed84-5f13-41f5-b493-6d13d989e71c",
   "metadata": {},
   "outputs": [
    {
     "name": "stdout",
     "output_type": "stream",
     "text": [
      "{'t-shirt': '5', 'mug': '5', 'hat': '5', 'book': 2, 'keychain': '5'}\n"
     ]
    }
   ],
   "source": [
    "def print_updated_inventory(inventory):\n",
    "    print(inventory)\n",
    "\n",
    "print_updated_inventory(inventory)"
   ]
  },
  {
   "cell_type": "code",
   "execution_count": null,
   "id": "93dbb11c-5612-4790-938d-a9c660ddf482",
   "metadata": {},
   "outputs": [],
   "source": []
  }
 ],
 "metadata": {
  "kernelspec": {
   "display_name": "Python 3 (ipykernel)",
   "language": "python",
   "name": "python3"
  },
  "language_info": {
   "codemirror_mode": {
    "name": "ipython",
    "version": 3
   },
   "file_extension": ".py",
   "mimetype": "text/x-python",
   "name": "python",
   "nbconvert_exporter": "python",
   "pygments_lexer": "ipython3",
   "version": "3.11.7"
  }
 },
 "nbformat": 4,
 "nbformat_minor": 5
}
